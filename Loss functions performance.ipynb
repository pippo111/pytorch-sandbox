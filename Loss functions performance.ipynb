{
 "cells": [
  {
   "cell_type": "code",
   "execution_count": 1,
   "metadata": {},
   "outputs": [],
   "source": [
    "import numpy as np\n",
    "from torch.utils.data import DataLoader\n",
    "\n",
    "from networks.model import MyModel\n",
    "from utils.dataset import get_loader\n",
    "from utils.common import seed_torch"
   ]
  },
  {
   "cell_type": "markdown",
   "metadata": {},
   "source": [
    "## Setup general parameters"
   ]
  },
  {
   "cell_type": "code",
   "execution_count": 2,
   "metadata": {},
   "outputs": [],
   "source": [
    "setup = {\n",
    "    'dataset_dir': '/home/filip/Projekty/ML/datasets/processed/GE3T_20_256x256x192_wmh',\n",
    "    'struct': 'wmh',\n",
    "    'epochs': 50,\n",
    "    'batch_size': 16,\n",
    "    'seed': 5\n",
    "}"
   ]
  },
  {
   "cell_type": "markdown",
   "metadata": {},
   "source": [
    "## Setup model parameters"
   ]
  },
  {
   "cell_type": "code",
   "execution_count": 3,
   "metadata": {},
   "outputs": [],
   "source": [
    "models = [\n",
    "    {\n",
    "        'arch': 'Unet', 'filters': 8, 'lr': 1e-3,\n",
    "        'loss_fn': 'dice'\n",
    "    },\n",
    "    {\n",
    "        'arch': 'Unet', 'filters': 8, 'lr': 1e-3,\n",
    "        'loss_fn': 'surface'\n",
    "    }\n",
    "]"
   ]
  },
  {
   "cell_type": "markdown",
   "metadata": {},
   "source": [
    "## Set the seed for deterministic results"
   ]
  },
  {
   "cell_type": "code",
   "execution_count": 4,
   "metadata": {},
   "outputs": [],
   "source": [
    "seed_torch(10)"
   ]
  },
  {
   "cell_type": "markdown",
   "metadata": {},
   "source": [
    "## Create train / validation loaders"
   ]
  },
  {
   "cell_type": "code",
   "execution_count": 5,
   "metadata": {},
   "outputs": [],
   "source": [
    "dataset_dir = setup['dataset_dir']\n",
    "train_loader = get_loader(dataset_dir, 'train', shuffle = True)\n",
    "valid_loader = get_loader(dataset_dir, 'valid', shuffle = False)"
   ]
  },
  {
   "cell_type": "markdown",
   "metadata": {},
   "source": [
    "## For each model setup perform training"
   ]
  },
  {
   "cell_type": "code",
   "execution_count": 6,
   "metadata": {},
   "outputs": [],
   "source": [
    "model_history = dict()"
   ]
  },
  {
   "cell_type": "code",
   "execution_count": 7,
   "metadata": {
    "scrolled": true
   },
   "outputs": [
    {
     "name": "stdout",
     "output_type": "stream",
     "text": [
      "Device: cuda\n",
      "---------------------------------------------------\n",
      "Epoch 1 / 50\n",
      "0.39954323520283413\n",
      "0.0\n",
      "Time per epoch: 13.454 seconds\n",
      "---\n",
      "Train. loss: 0.9854449156452628\n",
      "Valid. loss: 0.9812571055748883\n",
      "---\n",
      "Train. dice: 0.9854449156452628\n",
      "Valid. dice: 0.9812571055748883\n",
      "---\n",
      "False positive rate: 39.95%\n",
      "False negative rate: 0.00%\n",
      "---\n",
      "FP:, 5278086\n",
      "FN:, 0\n",
      "FP+FN:, 5278086\n",
      "---\n",
      "val_loss improved, inf -> 0.9812571055748883\n",
      "val_loss improved by inf\n",
      "Saving model: output/models/wmh_Unet_Adam_dice_bs-16_f-8.pt\n",
      "---------------------------------------------------\n",
      "Epoch 2 / 50\n",
      "0.03571576724222766\n",
      "0.0039018768521567335\n",
      "Time per epoch: 12.498 seconds\n",
      "---\n",
      "Train. loss: 0.9803079428041682\n",
      "Valid. loss: 0.9756075459368089\n",
      "---\n",
      "Train. dice: 0.9803079428041682\n",
      "Valid. dice: 0.9756075459368089\n",
      "---\n",
      "False positive rate: 3.57%\n",
      "False negative rate: 0.39%\n",
      "---\n",
      "FP:, 471816\n",
      "FN:, 237\n",
      "FP+FN:, 472053\n",
      "---\n",
      "val_loss improved, 0.9812571055748883 -> 0.9756075459368089\n",
      "val_loss improved by 0.005649559638079449\n",
      "Saving model: output/models/wmh_Unet_Adam_dice_bs-16_f-8.pt\n",
      "---------------------------------------------------\n",
      "Epoch 3 / 50\n",
      "0.03240312483440951\n",
      "0.07057951926243003\n",
      "Time per epoch: 12.503 seconds\n",
      "---\n",
      "Train. loss: 0.9723084437496522\n",
      "Valid. loss: 0.9669789461528554\n",
      "---\n",
      "Train. dice: 0.9723084437496522\n",
      "Valid. dice: 0.9669789461528554\n",
      "---\n",
      "False positive rate: 3.24%\n",
      "False negative rate: 7.06%\n",
      "---\n",
      "FP:, 428055\n",
      "FN:, 4287\n",
      "FP+FN:, 432342\n",
      "---\n",
      "val_loss improved, 0.9756075459368089 -> 0.9669789461528554\n",
      "val_loss improved by 0.008628599783953472\n",
      "Saving model: output/models/wmh_Unet_Adam_dice_bs-16_f-8.pt\n",
      "---------------------------------------------------\n",
      "Epoch 4 / 50\n",
      "0.011339258003224757\n",
      "0.010059269015475799\n",
      "Time per epoch: 12.760 seconds\n",
      "---\n",
      "Train. loss: 0.9522513493018991\n",
      "Valid. loss: 0.9223765695796293\n",
      "---\n",
      "Train. dice: 0.9522513493018991\n",
      "Valid. dice: 0.9223765695796293\n",
      "---\n",
      "False positive rate: 1.13%\n",
      "False negative rate: 1.01%\n",
      "---\n",
      "FP:, 149795\n",
      "FN:, 611\n",
      "FP+FN:, 150406\n",
      "---\n",
      "val_loss improved, 0.9669789461528554 -> 0.9223765695796293\n",
      "val_loss improved by 0.04460237657322608\n",
      "Saving model: output/models/wmh_Unet_Adam_dice_bs-16_f-8.pt\n",
      "---------------------------------------------------\n",
      "Epoch 5 / 50\n",
      "0.006704465454985882\n",
      "0.017418505103720776\n",
      "Time per epoch: 12.813 seconds\n",
      "---\n",
      "Train. loss: 0.8815809199038673\n",
      "Valid. loss: 0.8296301364898682\n",
      "---\n",
      "Train. dice: 0.8815809199038673\n",
      "Valid. dice: 0.8296301364898682\n",
      "---\n",
      "False positive rate: 0.67%\n",
      "False negative rate: 1.74%\n",
      "---\n",
      "FP:, 88568\n",
      "FN:, 1058\n",
      "FP+FN:, 89626\n",
      "---\n",
      "val_loss improved, 0.9223765695796293 -> 0.8296301364898682\n",
      "val_loss improved by 0.09274643308976116\n",
      "Saving model: output/models/wmh_Unet_Adam_dice_bs-16_f-8.pt\n",
      "---------------------------------------------------\n",
      "Epoch 6 / 50\n",
      "0.0004050627162138634\n",
      "0.29130721106354956\n",
      "Time per epoch: 12.758 seconds\n",
      "---\n",
      "Train. loss: 0.6353556277120814\n",
      "Valid. loss: 0.5926671483937431\n",
      "---\n",
      "Train. dice: 0.6353556277120814\n",
      "Valid. dice: 0.5926671483937431\n",
      "---\n",
      "False positive rate: 0.04%\n",
      "False negative rate: 29.13%\n",
      "---\n",
      "FP:, 5351\n",
      "FN:, 17694\n",
      "FP+FN:, 23045\n",
      "---\n",
      "val_loss improved, 0.8296301364898682 -> 0.5926671483937431\n",
      "val_loss improved by 0.23696298809612504\n",
      "Saving model: output/models/wmh_Unet_Adam_dice_bs-16_f-8.pt\n",
      "---------------------------------------------------\n",
      "Epoch 7 / 50\n",
      "0.004541380589388583\n",
      "0.06786302271978926\n",
      "Time per epoch: 12.775 seconds\n",
      "---\n",
      "Train. loss: 0.3134848405333126\n",
      "Valid. loss: 0.4691822809331557\n",
      "---\n",
      "Train. dice: 0.3134848405333126\n",
      "Valid. dice: 0.4691822809331557\n",
      "---\n",
      "False positive rate: 0.45%\n",
      "False negative rate: 6.79%\n",
      "---\n",
      "FP:, 59993\n",
      "FN:, 4122\n",
      "FP+FN:, 64115\n",
      "---\n",
      "val_loss improved, 0.5926671483937431 -> 0.4691822809331557\n",
      "val_loss improved by 0.1234848674605874\n",
      "Saving model: output/models/wmh_Unet_Adam_dice_bs-16_f-8.pt\n",
      "---------------------------------------------------\n",
      "Epoch 8 / 50\n",
      "0.0001432215771027153\n",
      "0.293233454066513\n",
      "Time per epoch: 12.496 seconds\n",
      "---\n",
      "Train. loss: 0.21965758940752814\n",
      "Valid. loss: 0.315717150183285\n",
      "---\n",
      "Train. dice: 0.21965758940752814\n",
      "Valid. dice: 0.315717150183285\n",
      "---\n",
      "False positive rate: 0.01%\n",
      "False negative rate: 29.32%\n",
      "---\n",
      "FP:, 1892\n",
      "FN:, 17811\n",
      "FP+FN:, 19703\n",
      "---\n",
      "val_loss improved, 0.4691822809331557 -> 0.315717150183285\n",
      "val_loss improved by 0.15346513074987073\n",
      "Saving model: output/models/wmh_Unet_Adam_dice_bs-16_f-8.pt\n",
      "---------------------------------------------------\n",
      "Epoch 9 / 50\n"
     ]
    },
    {
     "ename": "KeyboardInterrupt",
     "evalue": "",
     "output_type": "error",
     "traceback": [
      "\u001b[0;31m---------------------------------------------------------------------------\u001b[0m",
      "\u001b[0;31mKeyboardInterrupt\u001b[0m                         Traceback (most recent call last)",
      "\u001b[0;32m<ipython-input-7-66e7d7334421>\u001b[0m in \u001b[0;36m<module>\u001b[0;34m\u001b[0m\n\u001b[1;32m      9\u001b[0m         \u001b[0mn_filters\u001b[0m \u001b[0;34m=\u001b[0m \u001b[0mmodel\u001b[0m\u001b[0;34m[\u001b[0m\u001b[0;34m'filters'\u001b[0m\u001b[0;34m]\u001b[0m\u001b[0;34m,\u001b[0m\u001b[0;34m\u001b[0m\u001b[0;34m\u001b[0m\u001b[0m\n\u001b[1;32m     10\u001b[0m         \u001b[0mloss_name\u001b[0m \u001b[0;34m=\u001b[0m \u001b[0mmodel\u001b[0m\u001b[0;34m[\u001b[0m\u001b[0;34m'loss_fn'\u001b[0m\u001b[0;34m]\u001b[0m\u001b[0;34m,\u001b[0m\u001b[0;34m\u001b[0m\u001b[0;34m\u001b[0m\u001b[0m\n\u001b[0;32m---> 11\u001b[0;31m         \u001b[0mlearning_rate\u001b[0m \u001b[0;34m=\u001b[0m \u001b[0mmodel\u001b[0m\u001b[0;34m[\u001b[0m\u001b[0;34m'lr'\u001b[0m\u001b[0;34m]\u001b[0m\u001b[0;34m\u001b[0m\u001b[0;34m\u001b[0m\u001b[0m\n\u001b[0m\u001b[1;32m     12\u001b[0m     )\n\u001b[1;32m     13\u001b[0m \u001b[0;34m\u001b[0m\u001b[0m\n",
      "\u001b[0;32m~/Projekty/ML/pytorch-sandbox/networks/model.py\u001b[0m in \u001b[0;36mtrain\u001b[0;34m(self, arch, epochs, train_loader, valid_loader, n_filters, loss_name, n_channels, n_classes, learning_rate, lr_patience, tries)\u001b[0m\n\u001b[1;32m     87\u001b[0m                 \u001b[0moptimizer\u001b[0m\u001b[0;34m.\u001b[0m\u001b[0mstep\u001b[0m\u001b[0;34m(\u001b[0m\u001b[0;34m)\u001b[0m\u001b[0;34m\u001b[0m\u001b[0;34m\u001b[0m\u001b[0m\n\u001b[1;32m     88\u001b[0m \u001b[0;34m\u001b[0m\u001b[0m\n\u001b[0;32m---> 89\u001b[0;31m                 \u001b[0mlosses\u001b[0m\u001b[0;34m.\u001b[0m\u001b[0mappend\u001b[0m\u001b[0;34m(\u001b[0m\u001b[0mloss_val\u001b[0m\u001b[0;34m.\u001b[0m\u001b[0mitem\u001b[0m\u001b[0;34m(\u001b[0m\u001b[0;34m)\u001b[0m\u001b[0;34m)\u001b[0m\u001b[0;34m\u001b[0m\u001b[0;34m\u001b[0m\u001b[0m\n\u001b[0m\u001b[1;32m     90\u001b[0m                 \u001b[0mdices\u001b[0m\u001b[0;34m.\u001b[0m\u001b[0mappend\u001b[0m\u001b[0;34m(\u001b[0m\u001b[0mdice_val\u001b[0m\u001b[0;34m.\u001b[0m\u001b[0mitem\u001b[0m\u001b[0;34m(\u001b[0m\u001b[0;34m)\u001b[0m\u001b[0;34m)\u001b[0m\u001b[0;34m\u001b[0m\u001b[0;34m\u001b[0m\u001b[0m\n\u001b[1;32m     91\u001b[0m \u001b[0;34m\u001b[0m\u001b[0m\n",
      "\u001b[0;31mKeyboardInterrupt\u001b[0m: "
     ]
    }
   ],
   "source": [
    "for model in models:\n",
    "    my_model = MyModel(struct = setup['struct'])\n",
    "\n",
    "    history = my_model.train(\n",
    "        arch = model['arch'],\n",
    "        epochs = setup['epochs'],\n",
    "        train_loader = train_loader,\n",
    "        valid_loader = valid_loader,\n",
    "        n_filters = model['filters'],\n",
    "        loss_name = model['loss_fn'],\n",
    "        learning_rate = model['lr']\n",
    "    )\n",
    "\n",
    "    print(history)\n",
    "    \n",
    "    model_history[model['loss_fn']] = history"
   ]
  },
  {
   "cell_type": "code",
   "execution_count": null,
   "metadata": {},
   "outputs": [],
   "source": [
    "model_history"
   ]
  },
  {
   "cell_type": "markdown",
   "metadata": {},
   "source": [
    "### Loss / Validation loss"
   ]
  },
  {
   "cell_type": "code",
   "execution_count": null,
   "metadata": {},
   "outputs": [],
   "source": [
    "import matplotlib\n",
    "import matplotlib.pyplot as plt"
   ]
  },
  {
   "cell_type": "code",
   "execution_count": null,
   "metadata": {},
   "outputs": [],
   "source": [
    "epochs = np.arange(setup['epochs'])"
   ]
  },
  {
   "cell_type": "code",
   "execution_count": null,
   "metadata": {},
   "outputs": [],
   "source": [
    "for model in models:\n",
    "    plt.plot(epochs, model_history[model['loss_fn']]['losses'], 'o', color='green')\n",
    "    plt.plot(epochs, model_history[model['loss_fn']]['val_losses'], color='green')\n",
    "\n",
    "plt.show()"
   ]
  },
  {
   "cell_type": "code",
   "execution_count": null,
   "metadata": {},
   "outputs": [],
   "source": [
    "for model in models:\n",
    "    plt.plot(epochs, model_history[model['loss_fn']]['dices'], 'o', color='green')\n",
    "    plt.plot(epochs, model_history[model['loss_fn']]['val_dices'], color='green')\n",
    "\n",
    "plt.show()"
   ]
  }
 ],
 "metadata": {
  "kernelspec": {
   "display_name": "Python 3",
   "language": "python",
   "name": "python3"
  },
  "language_info": {
   "codemirror_mode": {
    "name": "ipython",
    "version": 3
   },
   "file_extension": ".py",
   "mimetype": "text/x-python",
   "name": "python",
   "nbconvert_exporter": "python",
   "pygments_lexer": "ipython3",
   "version": "3.6.9"
  }
 },
 "nbformat": 4,
 "nbformat_minor": 2
}
